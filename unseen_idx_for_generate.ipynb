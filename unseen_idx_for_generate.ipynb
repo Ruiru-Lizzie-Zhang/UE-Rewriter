{
 "cells": [
  {
   "cell_type": "code",
   "execution_count": 1,
   "metadata": {},
   "outputs": [],
   "source": [
    "from preprocess import read_txt"
   ]
  },
  {
   "cell_type": "code",
   "execution_count": 2,
   "metadata": {},
   "outputs": [],
   "source": [
    "masked_data = read_txt('../data/masked_all_data_by_bert-base-uncased_unseen_words.txt')"
   ]
  },
  {
   "cell_type": "code",
   "execution_count": 3,
   "metadata": {},
   "outputs": [
    {
     "name": "stderr",
     "output_type": "stream",
     "text": [
      "100%|██████████| 224310/224310 [00:00<00:00, 2199189.65it/s]\n"
     ]
    }
   ],
   "source": [
    "from tqdm import tqdm\n",
    "unseen_sen_idx = []\n",
    "for index in tqdm(range(len(masked_data))):\n",
    "    if '[MASK]' in masked_data[index]:\n",
    "        unseen_sen_idx.append(index)"
   ]
  },
  {
   "cell_type": "code",
   "execution_count": 4,
   "metadata": {},
   "outputs": [
    {
     "data": {
      "text/plain": [
       "74175"
      ]
     },
     "execution_count": 4,
     "metadata": {},
     "output_type": "execute_result"
    }
   ],
   "source": [
    "len(unseen_sen_idx)"
   ]
  },
  {
   "cell_type": "code",
   "execution_count": 6,
   "metadata": {},
   "outputs": [],
   "source": [
    "original = read_txt('../data/all_data.txt')"
   ]
  },
  {
   "cell_type": "code",
   "execution_count": 7,
   "metadata": {},
   "outputs": [
    {
     "name": "stderr",
     "output_type": "stream",
     "text": [
      "100%|██████████| 74175/74175 [00:00<00:00, 1717060.63it/s]\n"
     ]
    }
   ],
   "source": [
    "eos_idx = []\n",
    "unseen_original_reply = []\n",
    "for i in tqdm(unseen_sen_idx):\n",
    "    if original[i+1] == '##':\n",
    "        eos_idx.append(i)\n",
    "    else:\n",
    "        unseen_original_reply.append(original[i+1])"
   ]
  },
  {
   "cell_type": "code",
   "execution_count": 8,
   "metadata": {
    "scrolled": true
   },
   "outputs": [
    {
     "data": {
      "text/plain": [
       "8191"
      ]
     },
     "execution_count": 8,
     "metadata": {},
     "output_type": "execute_result"
    }
   ],
   "source": [
    "len(eos_idx)"
   ]
  },
  {
   "cell_type": "code",
   "execution_count": 9,
   "metadata": {},
   "outputs": [
    {
     "data": {
      "text/plain": [
       "65984"
      ]
     },
     "execution_count": 9,
     "metadata": {},
     "output_type": "execute_result"
    }
   ],
   "source": [
    "len(unseen_original_reply)"
   ]
  },
  {
   "cell_type": "code",
   "execution_count": 12,
   "metadata": {},
   "outputs": [],
   "source": [
    "final_unseen_idx = list(set(unseen_sen_idx).difference(set(eos_idx)))"
   ]
  },
  {
   "cell_type": "code",
   "execution_count": 5,
   "metadata": {},
   "outputs": [],
   "source": [
    "rewritten_unseen_only = read_txt('../data/unseen_from_bert-base-uncased_predicted_by_bert-base-uncased_rewritten_data.txt')"
   ]
  },
  {
   "cell_type": "code",
   "execution_count": 14,
   "metadata": {},
   "outputs": [
    {
     "name": "stderr",
     "output_type": "stream",
     "text": [
      "100%|██████████| 65984/65984 [00:00<00:00, 1664933.83it/s]\n"
     ]
    }
   ],
   "source": [
    "to_be_generate = []\n",
    "for i in tqdm(final_unseen_idx):\n",
    "    to_be_generate.append(rewritten_unseen_only[i])"
   ]
  },
  {
   "cell_type": "code",
   "execution_count": 16,
   "metadata": {},
   "outputs": [],
   "source": [
    "def write_txt(data, file_name):\n",
    "    file = open(file_name, 'w')\n",
    "    for sen in tqdm(data):\n",
    "        file.write(sen+'\\n')\n",
    "    file.close()\n",
    "    return file"
   ]
  },
  {
   "cell_type": "code",
   "execution_count": 17,
   "metadata": {},
   "outputs": [
    {
     "name": "stderr",
     "output_type": "stream",
     "text": [
      "100%|██████████| 65984/65984 [00:00<00:00, 1677274.22it/s]\n"
     ]
    }
   ],
   "source": [
    "generate = write_txt(to_be_generate, 'generate.txt')"
   ]
  },
  {
   "cell_type": "code",
   "execution_count": null,
   "metadata": {},
   "outputs": [],
   "source": [
    "ref = write_txt(unseen_original_reply, 'unseen_reply_ref.txt')"
   ]
  },
  {
   "cell_type": "code",
   "execution_count": 22,
   "metadata": {},
   "outputs": [],
   "source": [
    "original_generated = read_txt('../data/all_data_blenderbot_small-90M_generate.txt')"
   ]
  },
  {
   "cell_type": "code",
   "execution_count": 23,
   "metadata": {},
   "outputs": [
    {
     "name": "stderr",
     "output_type": "stream",
     "text": [
      "100%|██████████| 65984/65984 [00:00<00:00, 1938589.79it/s]\n",
      "100%|██████████| 65984/65984 [00:00<00:00, 1789199.49it/s]\n"
     ]
    }
   ],
   "source": [
    "original_generated_reply = []\n",
    "for i in tqdm(final_unseen_idx):\n",
    "    original_generated_reply.append(original_generated[i])\n",
    "ori_gen = write_txt(original_generated_reply, 'original_generated.txt')"
   ]
  }
 ],
 "metadata": {
  "kernelspec": {
   "display_name": "Python 3",
   "language": "python",
   "name": "python3"
  },
  "language_info": {
   "codemirror_mode": {
    "name": "ipython",
    "version": 3
   },
   "file_extension": ".py",
   "mimetype": "text/x-python",
   "name": "python",
   "nbconvert_exporter": "python",
   "pygments_lexer": "ipython3",
   "version": "3.8.5"
  }
 },
 "nbformat": 4,
 "nbformat_minor": 4
}
